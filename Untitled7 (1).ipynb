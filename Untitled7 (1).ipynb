{
  "nbformat": 4,
  "nbformat_minor": 0,
  "metadata": {
    "colab": {
      "provenance": []
    },
    "kernelspec": {
      "name": "python3",
      "display_name": "Python 3"
    },
    "language_info": {
      "name": "python"
    }
  },
  "cells": [
    {
      "cell_type": "markdown",
      "source": [
        "1) What is a parameter?\n",
        "\n",
        "Ans = A parameter is a configuration variable that is learned from the training data. It defines the behavior of the model and directly affects its predictions."
      ],
      "metadata": {
        "id": "oeXdosVc-6AF"
      }
    },
    {
      "cell_type": "markdown",
      "source": [
        "2) What is correlation?\n",
        "What does negative correlation mean?\n",
        "\n",
        "Ans = Correlation is a statistical measure that describes how two variables move in relation to each other.\n",
        "\n",
        "A negative correlation means that as one variable is increasing, the other tends to decreasing."
      ],
      "metadata": {
        "id": "Uv-x9b13_fGS"
      }
    },
    {
      "cell_type": "markdown",
      "source": [
        "3) Define Machine Learning. What are the main components in Machine Learning?\n",
        "\n",
        "Ans = Machine learning is a subfield of artificial intelligence that uses algorithms trained on data sets to create models capable of performing tasks that would otherwise only be possible for humans.\n",
        "\n",
        "Main component in Machine Learning are.\n",
        "Data, Model, Training, Testing, retraining."
      ],
      "metadata": {
        "id": "VN81cVdU_dNw"
      }
    },
    {
      "cell_type": "markdown",
      "source": [
        "4) How does loss value help in determining whether the model is good or not?\n",
        "\n",
        "Ans = If the loss is,\n",
        "\n",
        "Low on training and test data - Model is doing well.\n",
        "\n",
        "Low on training but high on test data - Overfitting - model memorized training data but can't generalize.\n",
        "\n",
        "High on both - Underfitting - model hasn’t learned enough patterns.\n",
        "\n"
      ],
      "metadata": {
        "id": "flAyUlHCBzPX"
      }
    },
    {
      "cell_type": "markdown",
      "source": [
        "5) What are continuous and categorical variables?\n",
        "\n",
        "Ans = Continuous Variables\n",
        "These are numerical values that can take any value within a range. we can measure them. We can perform mathematical operations like averaging, subtracting, etc.\n",
        "\n",
        "Categorical Variables\n",
        "These are values that represent categories or groups. we cannot measure them with numbers directly. Some are nominal like color and ordinal like Yes/No responses."
      ],
      "metadata": {
        "id": "qjinuTLSDFqx"
      }
    },
    {
      "cell_type": "code",
      "source": [],
      "metadata": {
        "id": "9wIID_XGEY9J"
      },
      "execution_count": null,
      "outputs": []
    },
    {
      "cell_type": "markdown",
      "source": [
        "6) How do we handle categorical variables in Machine Learning? What are the common techniques?\n",
        "\n",
        "Ans = ML models work with numerical inputs. we have to convert categories into numbers without losing the perpose of the data.\n",
        "\n",
        "common techniques are,\n",
        "\n",
        "1) Label Encoding\n",
        "\n",
        "Converts each category into a unique number.\n",
        "\n",
        "2) Ordinal Encoding\n",
        "\n",
        "Assigns numbers based on a meaningful order."
      ],
      "metadata": {
        "id": "3Y4XqJJYEbPK"
      }
    },
    {
      "cell_type": "code",
      "source": [],
      "metadata": {
        "id": "h4zXhHJrFyEH"
      },
      "execution_count": null,
      "outputs": []
    },
    {
      "cell_type": "markdown",
      "source": [
        "7) What do you mean by training and testing a dataset?\n",
        "\n",
        "Ans = In machine learning model. we split the data into at least two parts.\n",
        "1) Training Dataset\n",
        "2) Testing Dataset\n",
        "\n",
        "1) Training Dataset = In this part of data used to teach the model.The model learns patterns, relationships, and adjusts its parameters based on this data.\n",
        "\n",
        "2) Testing Dataset = In this separate portion of the data used to evaluate how well the model learned. It simulates real-world, unseen data—stuff the model hasn't seen before.\n",
        "\n",
        "\n",
        "\n"
      ],
      "metadata": {
        "id": "o82gc49UFzRA"
      }
    },
    {
      "cell_type": "markdown",
      "source": [
        "8) What is sklearn.preprocessing?\n",
        "\n",
        "Ans = sklearn.preprocessing is a module in Scikit-learn that provides tools to prepare and transform our data before giving to a model."
      ],
      "metadata": {
        "id": "KI86MGwTHFio"
      }
    },
    {
      "cell_type": "markdown",
      "source": [
        "9) What is a Test set?\n",
        "\n",
        "Ans = A test set is a part of our dataset that we set aside to evaluate how well your machine learning model performs on unseen data."
      ],
      "metadata": {
        "id": "9GuETSxJHq89"
      }
    },
    {
      "cell_type": "markdown",
      "source": [
        "10) How do we split data for model fitting (training and testing) in Python?\n",
        "How do you approach a Machine Learning problem?\n",
        "\n",
        "Ans = We use train_test_split from scikit-learn (sklearn.model_selection) to easily split our dataset.\n",
        "example : from sklearn.model_selection import train_test_split\n",
        "\n",
        "Approaching a Machine Learning Problem.\n",
        "\n",
        "Understand the Problem, Collect the Data, Preprocess the Data, Split the Data, Train a Model, Evaluate the Mode, Improve the mode."
      ],
      "metadata": {
        "id": "xPAy8I7VIMaF"
      }
    },
    {
      "cell_type": "markdown",
      "source": [
        "11) Why do we have to perform EDA before fitting a model to the data?\n",
        "\n",
        "Ans = EDA is important because it help us to understand our data better and prepares our data for building a model. By spotting issues like missing values, skewed distributions, outliers, or irrelevant features, we can make more informed decisions during model selection and preprocessing."
      ],
      "metadata": {
        "id": "OXKOw4sZJkUb"
      }
    },
    {
      "cell_type": "markdown",
      "source": [
        "12) What is correlation?\n",
        "\n",
        "Ans = Correlation is a statistical measure that describe the relationship between two variables. It indicates how one variable changes when another variable changes."
      ],
      "metadata": {
        "id": "KRTrHzdeKWE9"
      }
    },
    {
      "cell_type": "markdown",
      "source": [
        "13) What does negative correlation mean?\n",
        "\n",
        "Ans = Negative correlation means that when one variable increases the other variable decreases. The variables have an inverse relationship."
      ],
      "metadata": {
        "id": "tJ8fAjncK2iE"
      }
    },
    {
      "cell_type": "markdown",
      "source": [
        "14) How can you find correlation between variables in Python?\n",
        "\n",
        "Ans = To find the correlation between variables in Python, we can use Pandas and NumPy. Which have simple and efficient ways to calculate correlation coefficients."
      ],
      "metadata": {
        "id": "5z3P7BsTLWoZ"
      }
    },
    {
      "cell_type": "markdown",
      "source": [
        "15) What is causation? Explain difference between correlation and causation with an example.\n",
        "\n",
        "Ans = Causation refers to a relationship between two variables where one directly causes unother to change.\n",
        "\n",
        "Difference Between Correlation and Causation\n",
        "Correlation means that two variables move together in some way.\n",
        "\n",
        "Causation means that one variable directly causes the other to change."
      ],
      "metadata": {
        "id": "HWaqTjRIL7D_"
      }
    },
    {
      "cell_type": "markdown",
      "source": [
        "16) What is an Optimizer? What are different types of optimizers? Explain each with an example.\n",
        "\n",
        "Ans = The optimizer helps the model learn better by finding the best parameters that makes result more accurate.\n",
        "\n",
        "Different types of optimizers.\n",
        "\n",
        "1) Adam (Adaptive Moment Estimation)\n",
        "2) RMSprop (Root Mean Square Propagation)\n",
        "3) Stochastic Gradient Descent (SGD)"
      ],
      "metadata": {
        "id": "v1MFNyPPMwBL"
      }
    },
    {
      "cell_type": "markdown",
      "source": [
        "17) What is sklearn.linear_model ?\n",
        "\n",
        "Ans = sklearn.linear_model is a module in sklearn. In simple terms: It gives you tools to build models like Linear Regression, Logistic Regression, Ridge, Lasso, etc.\n",
        "\n"
      ],
      "metadata": {
        "id": "R8YXxr05N2xW"
      }
    },
    {
      "cell_type": "markdown",
      "source": [
        "18) What does model.fit() do? What arguments must be given?\n",
        "\n",
        "Ans = model.fit() teach the model how to make predictions by learning from the data."
      ],
      "metadata": {
        "id": "IO1iTwg3OYux"
      }
    },
    {
      "cell_type": "markdown",
      "source": [
        "19) What does model.predict() do? What arguments must be given?\n",
        "\n",
        "Ans = After  training our model using model.fit(), the .predict() method is used to make predictions on new data."
      ],
      "metadata": {
        "id": "sCzt4ZAQOvpF"
      }
    },
    {
      "cell_type": "markdown",
      "source": [
        "20) What are continuous and categorical variables?\n",
        "\n",
        "Ans = Continuous Variables\n",
        "These are numerical values that can take on any value within a range and it can be measured is called continuous variables.\n",
        "\n",
        "Categorical Variables\n",
        "These are variables that represent categories.The values are from a limited set of distinct groups.They cannot be measured, only classified."
      ],
      "metadata": {
        "id": "_nGEfliKPJ17"
      }
    },
    {
      "cell_type": "markdown",
      "source": [
        "21) What is feature scaling? How does it help in Machine Learning?\n",
        "\n",
        "Ans = Feature Scaling is the process of normalizing or standardizing the range of independent variables in your dataset.\n"
      ],
      "metadata": {
        "id": "U6_OffJnQC2Y"
      }
    },
    {
      "cell_type": "markdown",
      "source": [
        "22) How do we perform scaling in Python?\n",
        "\n",
        "Ans = we perform scaling in python by\n",
        "\n",
        "1) StandardScaler\n",
        "2) MinMaxScaler\n",
        "3) RobustScaler"
      ],
      "metadata": {
        "id": "pHXEIM_jRHe6"
      }
    },
    {
      "cell_type": "markdown",
      "source": [
        "23) What is sklearn.preprocessing?\n",
        "\n",
        "Ans = sklearn.preprocessing is a module in Scikit-learn. It helps you clean, transform, scale, and encode your data so that your models can learn from it more effectively."
      ],
      "metadata": {
        "id": "A_HyA5CfR1eM"
      }
    },
    {
      "cell_type": "markdown",
      "source": [
        "24) How do we split data for model fitting (training and testing) in Python?\n",
        "\n",
        "Ans = we split data for model fitting (training and testing) in Python by\n",
        "\n",
        "(sklearn.model_selection import train_test_split) this code\n",
        "\n"
      ],
      "metadata": {
        "id": "EVvuiYo2SXJa"
      }
    },
    {
      "cell_type": "markdown",
      "source": [
        "25) Explain data encoding?\n",
        "\n",
        "Ans = Data encoding is the process of converting categorical values into numerical values so that machine learning models can understand it."
      ],
      "metadata": {
        "id": "iHtlxzEQTOqu"
      }
    },
    {
      "cell_type": "code",
      "source": [],
      "metadata": {
        "id": "ozuOh-fCTJa5"
      },
      "execution_count": null,
      "outputs": []
    }
  ]
}